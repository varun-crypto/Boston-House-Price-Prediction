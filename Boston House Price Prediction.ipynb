{
 "cells": [
  {
   "cell_type": "code",
   "execution_count": 1,
   "id": "3c991e64",
   "metadata": {
    "_cell_guid": "b1076dfc-b9ad-4769-8c92-a6c4dae69d19",
    "_uuid": "8f2839f25d086af736a60e9eeb907d3b93b6e0e5",
    "execution": {
     "iopub.execute_input": "2024-04-05T10:37:50.609515Z",
     "iopub.status.busy": "2024-04-05T10:37:50.609143Z",
     "iopub.status.idle": "2024-04-05T10:37:51.557497Z",
     "shell.execute_reply": "2024-04-05T10:37:51.556066Z"
    },
    "papermill": {
     "duration": 0.964498,
     "end_time": "2024-04-05T10:37:51.560202",
     "exception": false,
     "start_time": "2024-04-05T10:37:50.595704",
     "status": "completed"
    },
    "tags": []
   },
   "outputs": [],
   "source": [
    "import numpy as np \n",
    "import pandas as pd"
   ]
  },
  {
   "cell_type": "code",
   "execution_count": 2,
   "id": "45c39387",
   "metadata": {
    "execution": {
     "iopub.execute_input": "2024-04-05T10:37:51.585487Z",
     "iopub.status.busy": "2024-04-05T10:37:51.584962Z",
     "iopub.status.idle": "2024-04-05T10:37:51.632957Z",
     "shell.execute_reply": "2024-04-05T10:37:51.631901Z"
    },
    "papermill": {
     "duration": 0.063791,
     "end_time": "2024-04-05T10:37:51.635572",
     "exception": false,
     "start_time": "2024-04-05T10:37:51.571781",
     "status": "completed"
    },
    "tags": []
   },
   "outputs": [
    {
     "data": {
      "text/html": [
       "<div>\n",
       "<style scoped>\n",
       "    .dataframe tbody tr th:only-of-type {\n",
       "        vertical-align: middle;\n",
       "    }\n",
       "\n",
       "    .dataframe tbody tr th {\n",
       "        vertical-align: top;\n",
       "    }\n",
       "\n",
       "    .dataframe thead th {\n",
       "        text-align: right;\n",
       "    }\n",
       "</style>\n",
       "<table border=\"1\" class=\"dataframe\">\n",
       "  <thead>\n",
       "    <tr style=\"text-align: right;\">\n",
       "      <th></th>\n",
       "      <th>CRIM</th>\n",
       "      <th>ZN</th>\n",
       "      <th>INDUS</th>\n",
       "      <th>CHAS</th>\n",
       "      <th>NX</th>\n",
       "      <th>RM</th>\n",
       "      <th>AGE</th>\n",
       "      <th>DIS</th>\n",
       "      <th>RAD</th>\n",
       "      <th>TAX</th>\n",
       "      <th>PTRATIO</th>\n",
       "      <th>B</th>\n",
       "      <th>LSTAT</th>\n",
       "      <th>MEDV</th>\n",
       "    </tr>\n",
       "  </thead>\n",
       "  <tbody>\n",
       "    <tr>\n",
       "      <th>0</th>\n",
       "      <td>0.00632</td>\n",
       "      <td>18.0</td>\n",
       "      <td>2.31</td>\n",
       "      <td>0</td>\n",
       "      <td>0.538</td>\n",
       "      <td>6.575</td>\n",
       "      <td>65.2</td>\n",
       "      <td>4.0900</td>\n",
       "      <td>1</td>\n",
       "      <td>296.0</td>\n",
       "      <td>15.3</td>\n",
       "      <td>396.90</td>\n",
       "      <td>4.98</td>\n",
       "      <td>24.0</td>\n",
       "    </tr>\n",
       "    <tr>\n",
       "      <th>1</th>\n",
       "      <td>0.02731</td>\n",
       "      <td>0.0</td>\n",
       "      <td>7.07</td>\n",
       "      <td>0</td>\n",
       "      <td>0.469</td>\n",
       "      <td>6.421</td>\n",
       "      <td>78.9</td>\n",
       "      <td>4.9671</td>\n",
       "      <td>2</td>\n",
       "      <td>242.0</td>\n",
       "      <td>17.8</td>\n",
       "      <td>396.90</td>\n",
       "      <td>9.14</td>\n",
       "      <td>21.6</td>\n",
       "    </tr>\n",
       "    <tr>\n",
       "      <th>2</th>\n",
       "      <td>0.02729</td>\n",
       "      <td>0.0</td>\n",
       "      <td>7.07</td>\n",
       "      <td>0</td>\n",
       "      <td>0.469</td>\n",
       "      <td>7.185</td>\n",
       "      <td>61.1</td>\n",
       "      <td>4.9671</td>\n",
       "      <td>2</td>\n",
       "      <td>242.0</td>\n",
       "      <td>17.8</td>\n",
       "      <td>392.83</td>\n",
       "      <td>4.03</td>\n",
       "      <td>34.7</td>\n",
       "    </tr>\n",
       "    <tr>\n",
       "      <th>3</th>\n",
       "      <td>0.03237</td>\n",
       "      <td>0.0</td>\n",
       "      <td>2.18</td>\n",
       "      <td>0</td>\n",
       "      <td>0.458</td>\n",
       "      <td>6.998</td>\n",
       "      <td>45.8</td>\n",
       "      <td>6.0622</td>\n",
       "      <td>3</td>\n",
       "      <td>222.0</td>\n",
       "      <td>18.7</td>\n",
       "      <td>394.63</td>\n",
       "      <td>2.94</td>\n",
       "      <td>33.4</td>\n",
       "    </tr>\n",
       "    <tr>\n",
       "      <th>4</th>\n",
       "      <td>0.06905</td>\n",
       "      <td>0.0</td>\n",
       "      <td>2.18</td>\n",
       "      <td>0</td>\n",
       "      <td>0.458</td>\n",
       "      <td>7.147</td>\n",
       "      <td>54.2</td>\n",
       "      <td>6.0622</td>\n",
       "      <td>3</td>\n",
       "      <td>222.0</td>\n",
       "      <td>18.7</td>\n",
       "      <td>396.90</td>\n",
       "      <td>5.33</td>\n",
       "      <td>36.2</td>\n",
       "    </tr>\n",
       "  </tbody>\n",
       "</table>\n",
       "</div>"
      ],
      "text/plain": [
       "      CRIM    ZN  INDUS  CHAS     NX     RM   AGE     DIS  RAD    TAX  \\\n",
       "0  0.00632  18.0   2.31     0  0.538  6.575  65.2  4.0900    1  296.0   \n",
       "1  0.02731   0.0   7.07     0  0.469  6.421  78.9  4.9671    2  242.0   \n",
       "2  0.02729   0.0   7.07     0  0.469  7.185  61.1  4.9671    2  242.0   \n",
       "3  0.03237   0.0   2.18     0  0.458  6.998  45.8  6.0622    3  222.0   \n",
       "4  0.06905   0.0   2.18     0  0.458  7.147  54.2  6.0622    3  222.0   \n",
       "\n",
       "   PTRATIO       B  LSTAT  MEDV  \n",
       "0     15.3  396.90   4.98  24.0  \n",
       "1     17.8  396.90   9.14  21.6  \n",
       "2     17.8  392.83   4.03  34.7  \n",
       "3     18.7  394.63   2.94  33.4  \n",
       "4     18.7  396.90   5.33  36.2  "
      ]
     },
     "execution_count": 2,
     "metadata": {},
     "output_type": "execute_result"
    }
   ],
   "source": [
    "df=pd.read_csv('Boston (1).csv')\n",
    "df.head()"
   ]
  },
  {
   "cell_type": "code",
   "execution_count": 3,
   "id": "a73bad0c",
   "metadata": {
    "execution": {
     "iopub.execute_input": "2024-04-05T10:37:51.660784Z",
     "iopub.status.busy": "2024-04-05T10:37:51.660401Z",
     "iopub.status.idle": "2024-04-05T10:37:51.667447Z",
     "shell.execute_reply": "2024-04-05T10:37:51.666309Z"
    },
    "papermill": {
     "duration": 0.022466,
     "end_time": "2024-04-05T10:37:51.669749",
     "exception": false,
     "start_time": "2024-04-05T10:37:51.647283",
     "status": "completed"
    },
    "tags": []
   },
   "outputs": [
    {
     "data": {
      "text/plain": [
       "(506, 14)"
      ]
     },
     "execution_count": 3,
     "metadata": {},
     "output_type": "execute_result"
    }
   ],
   "source": [
    "df.shape"
   ]
  },
  {
   "cell_type": "markdown",
   "id": "e638b57f",
   "metadata": {
    "papermill": {
     "duration": 0.011693,
     "end_time": "2024-04-05T10:37:51.694716",
     "exception": false,
     "start_time": "2024-04-05T10:37:51.683023",
     "status": "completed"
    },
    "tags": []
   },
   "source": [
    "# Split Data set into train, test data for train Model"
   ]
  },
  {
   "cell_type": "code",
   "execution_count": 19,
   "id": "1ad6fc56",
   "metadata": {
    "execution": {
     "iopub.execute_input": "2024-04-05T10:37:51.720051Z",
     "iopub.status.busy": "2024-04-05T10:37:51.719637Z",
     "iopub.status.idle": "2024-04-05T10:37:53.131043Z",
     "shell.execute_reply": "2024-04-05T10:37:53.129689Z"
    },
    "papermill": {
     "duration": 1.427657,
     "end_time": "2024-04-05T10:37:53.134022",
     "exception": false,
     "start_time": "2024-04-05T10:37:51.706365",
     "status": "completed"
    },
    "tags": []
   },
   "outputs": [],
   "source": [
    "from sklearn.model_selection import train_test_split, cross_val_score, KFold\n"
   ]
  },
  {
   "cell_type": "code",
   "execution_count": 5,
   "id": "89efa933",
   "metadata": {
    "execution": {
     "iopub.execute_input": "2024-04-05T10:37:53.159911Z",
     "iopub.status.busy": "2024-04-05T10:37:53.159483Z",
     "iopub.status.idle": "2024-04-05T10:37:53.172430Z",
     "shell.execute_reply": "2024-04-05T10:37:53.171058Z"
    },
    "papermill": {
     "duration": 0.028814,
     "end_time": "2024-04-05T10:37:53.175261",
     "exception": false,
     "start_time": "2024-04-05T10:37:53.146447",
     "status": "completed"
    },
    "tags": []
   },
   "outputs": [],
   "source": [
    "X=df.drop(columns=['MEDV'])\n",
    "Y=df['MEDV']"
   ]
  },
  {
   "cell_type": "code",
   "execution_count": 6,
   "id": "7c86f63b",
   "metadata": {
    "execution": {
     "iopub.execute_input": "2024-04-05T10:37:53.200641Z",
     "iopub.status.busy": "2024-04-05T10:37:53.200258Z",
     "iopub.status.idle": "2024-04-05T10:37:53.207671Z",
     "shell.execute_reply": "2024-04-05T10:37:53.206372Z"
    },
    "papermill": {
     "duration": 0.023187,
     "end_time": "2024-04-05T10:37:53.210279",
     "exception": false,
     "start_time": "2024-04-05T10:37:53.187092",
     "status": "completed"
    },
    "tags": []
   },
   "outputs": [
    {
     "data": {
      "text/plain": [
       "((506, 13), (506,))"
      ]
     },
     "execution_count": 6,
     "metadata": {},
     "output_type": "execute_result"
    }
   ],
   "source": [
    "X.shape , Y.shape"
   ]
  },
  {
   "cell_type": "code",
   "execution_count": 7,
   "id": "d2a158ec",
   "metadata": {
    "execution": {
     "iopub.execute_input": "2024-04-05T10:37:53.236617Z",
     "iopub.status.busy": "2024-04-05T10:37:53.236187Z",
     "iopub.status.idle": "2024-04-05T10:37:53.246638Z",
     "shell.execute_reply": "2024-04-05T10:37:53.245632Z"
    },
    "papermill": {
     "duration": 0.025947,
     "end_time": "2024-04-05T10:37:53.249060",
     "exception": false,
     "start_time": "2024-04-05T10:37:53.223113",
     "status": "completed"
    },
    "tags": []
   },
   "outputs": [],
   "source": [
    "x_train , x_test, y_train ,y_test=train_test_split(X,Y,test_size=0.2, random_state=2529)"
   ]
  },
  {
   "cell_type": "code",
   "execution_count": 8,
   "id": "ac19fe05",
   "metadata": {
    "execution": {
     "iopub.execute_input": "2024-04-05T10:37:53.275579Z",
     "iopub.status.busy": "2024-04-05T10:37:53.274558Z",
     "iopub.status.idle": "2024-04-05T10:37:53.282611Z",
     "shell.execute_reply": "2024-04-05T10:37:53.281478Z"
    },
    "papermill": {
     "duration": 0.023757,
     "end_time": "2024-04-05T10:37:53.285116",
     "exception": false,
     "start_time": "2024-04-05T10:37:53.261359",
     "status": "completed"
    },
    "tags": []
   },
   "outputs": [
    {
     "data": {
      "text/plain": [
       "((404, 13), (102, 13), (404,), (102,))"
      ]
     },
     "execution_count": 8,
     "metadata": {},
     "output_type": "execute_result"
    }
   ],
   "source": [
    "x_train.shape , x_test.shape , y_train.shape ,y_test.shape"
   ]
  },
  {
   "cell_type": "markdown",
   "id": "c1cd9486",
   "metadata": {
    "papermill": {
     "duration": 0.012356,
     "end_time": "2024-04-05T10:37:53.309640",
     "exception": false,
     "start_time": "2024-04-05T10:37:53.297284",
     "status": "completed"
    },
    "tags": []
   },
   "source": [
    "# Linear Regression"
   ]
  },
  {
   "cell_type": "code",
   "execution_count": 9,
   "id": "3a4039ae",
   "metadata": {
    "execution": {
     "iopub.execute_input": "2024-04-05T10:37:53.336491Z",
     "iopub.status.busy": "2024-04-05T10:37:53.336096Z",
     "iopub.status.idle": "2024-04-05T10:37:53.447864Z",
     "shell.execute_reply": "2024-04-05T10:37:53.446548Z"
    },
    "papermill": {
     "duration": 0.128491,
     "end_time": "2024-04-05T10:37:53.450680",
     "exception": false,
     "start_time": "2024-04-05T10:37:53.322189",
     "status": "completed"
    },
    "tags": []
   },
   "outputs": [],
   "source": [
    "from sklearn.linear_model import LinearRegression"
   ]
  },
  {
   "cell_type": "code",
   "execution_count": 10,
   "id": "fca1ffca",
   "metadata": {
    "execution": {
     "iopub.execute_input": "2024-04-05T10:37:53.476552Z",
     "iopub.status.busy": "2024-04-05T10:37:53.476130Z",
     "iopub.status.idle": "2024-04-05T10:37:53.481395Z",
     "shell.execute_reply": "2024-04-05T10:37:53.480059Z"
    },
    "papermill": {
     "duration": 0.020825,
     "end_time": "2024-04-05T10:37:53.483761",
     "exception": false,
     "start_time": "2024-04-05T10:37:53.462936",
     "status": "completed"
    },
    "tags": []
   },
   "outputs": [],
   "source": [
    "lr=LinearRegression()"
   ]
  },
  {
   "cell_type": "code",
   "execution_count": 11,
   "id": "c2f08edf",
   "metadata": {
    "execution": {
     "iopub.execute_input": "2024-04-05T10:37:53.509792Z",
     "iopub.status.busy": "2024-04-05T10:37:53.509409Z",
     "iopub.status.idle": "2024-04-05T10:37:53.547310Z",
     "shell.execute_reply": "2024-04-05T10:37:53.546007Z"
    },
    "papermill": {
     "duration": 0.053696,
     "end_time": "2024-04-05T10:37:53.549860",
     "exception": false,
     "start_time": "2024-04-05T10:37:53.496164",
     "status": "completed"
    },
    "tags": []
   },
   "outputs": [
    {
     "data": {
      "text/html": [
       "<style>#sk-container-id-1 {color: black;background-color: white;}#sk-container-id-1 pre{padding: 0;}#sk-container-id-1 div.sk-toggleable {background-color: white;}#sk-container-id-1 label.sk-toggleable__label {cursor: pointer;display: block;width: 100%;margin-bottom: 0;padding: 0.3em;box-sizing: border-box;text-align: center;}#sk-container-id-1 label.sk-toggleable__label-arrow:before {content: \"▸\";float: left;margin-right: 0.25em;color: #696969;}#sk-container-id-1 label.sk-toggleable__label-arrow:hover:before {color: black;}#sk-container-id-1 div.sk-estimator:hover label.sk-toggleable__label-arrow:before {color: black;}#sk-container-id-1 div.sk-toggleable__content {max-height: 0;max-width: 0;overflow: hidden;text-align: left;background-color: #f0f8ff;}#sk-container-id-1 div.sk-toggleable__content pre {margin: 0.2em;color: black;border-radius: 0.25em;background-color: #f0f8ff;}#sk-container-id-1 input.sk-toggleable__control:checked~div.sk-toggleable__content {max-height: 200px;max-width: 100%;overflow: auto;}#sk-container-id-1 input.sk-toggleable__control:checked~label.sk-toggleable__label-arrow:before {content: \"▾\";}#sk-container-id-1 div.sk-estimator input.sk-toggleable__control:checked~label.sk-toggleable__label {background-color: #d4ebff;}#sk-container-id-1 div.sk-label input.sk-toggleable__control:checked~label.sk-toggleable__label {background-color: #d4ebff;}#sk-container-id-1 input.sk-hidden--visually {border: 0;clip: rect(1px 1px 1px 1px);clip: rect(1px, 1px, 1px, 1px);height: 1px;margin: -1px;overflow: hidden;padding: 0;position: absolute;width: 1px;}#sk-container-id-1 div.sk-estimator {font-family: monospace;background-color: #f0f8ff;border: 1px dotted black;border-radius: 0.25em;box-sizing: border-box;margin-bottom: 0.5em;}#sk-container-id-1 div.sk-estimator:hover {background-color: #d4ebff;}#sk-container-id-1 div.sk-parallel-item::after {content: \"\";width: 100%;border-bottom: 1px solid gray;flex-grow: 1;}#sk-container-id-1 div.sk-label:hover label.sk-toggleable__label {background-color: #d4ebff;}#sk-container-id-1 div.sk-serial::before {content: \"\";position: absolute;border-left: 1px solid gray;box-sizing: border-box;top: 0;bottom: 0;left: 50%;z-index: 0;}#sk-container-id-1 div.sk-serial {display: flex;flex-direction: column;align-items: center;background-color: white;padding-right: 0.2em;padding-left: 0.2em;position: relative;}#sk-container-id-1 div.sk-item {position: relative;z-index: 1;}#sk-container-id-1 div.sk-parallel {display: flex;align-items: stretch;justify-content: center;background-color: white;position: relative;}#sk-container-id-1 div.sk-item::before, #sk-container-id-1 div.sk-parallel-item::before {content: \"\";position: absolute;border-left: 1px solid gray;box-sizing: border-box;top: 0;bottom: 0;left: 50%;z-index: -1;}#sk-container-id-1 div.sk-parallel-item {display: flex;flex-direction: column;z-index: 1;position: relative;background-color: white;}#sk-container-id-1 div.sk-parallel-item:first-child::after {align-self: flex-end;width: 50%;}#sk-container-id-1 div.sk-parallel-item:last-child::after {align-self: flex-start;width: 50%;}#sk-container-id-1 div.sk-parallel-item:only-child::after {width: 0;}#sk-container-id-1 div.sk-dashed-wrapped {border: 1px dashed gray;margin: 0 0.4em 0.5em 0.4em;box-sizing: border-box;padding-bottom: 0.4em;background-color: white;}#sk-container-id-1 div.sk-label label {font-family: monospace;font-weight: bold;display: inline-block;line-height: 1.2em;}#sk-container-id-1 div.sk-label-container {text-align: center;}#sk-container-id-1 div.sk-container {/* jupyter's `normalize.less` sets `[hidden] { display: none; }` but bootstrap.min.css set `[hidden] { display: none !important; }` so we also need the `!important` here to be able to override the default hidden behavior on the sphinx rendered scikit-learn.org. See: https://github.com/scikit-learn/scikit-learn/issues/21755 */display: inline-block !important;position: relative;}#sk-container-id-1 div.sk-text-repr-fallback {display: none;}</style><div id=\"sk-container-id-1\" class=\"sk-top-container\"><div class=\"sk-text-repr-fallback\"><pre>LinearRegression()</pre><b>In a Jupyter environment, please rerun this cell to show the HTML representation or trust the notebook. <br />On GitHub, the HTML representation is unable to render, please try loading this page with nbviewer.org.</b></div><div class=\"sk-container\" hidden><div class=\"sk-item\"><div class=\"sk-estimator sk-toggleable\"><input class=\"sk-toggleable__control sk-hidden--visually\" id=\"sk-estimator-id-1\" type=\"checkbox\" checked><label for=\"sk-estimator-id-1\" class=\"sk-toggleable__label sk-toggleable__label-arrow\">LinearRegression</label><div class=\"sk-toggleable__content\"><pre>LinearRegression()</pre></div></div></div></div></div>"
      ],
      "text/plain": [
       "LinearRegression()"
      ]
     },
     "execution_count": 11,
     "metadata": {},
     "output_type": "execute_result"
    }
   ],
   "source": [
    "lr.fit(x_train,y_train)"
   ]
  },
  {
   "cell_type": "code",
   "execution_count": 12,
   "id": "9c0c8d5c",
   "metadata": {
    "execution": {
     "iopub.execute_input": "2024-04-05T10:37:53.576685Z",
     "iopub.status.busy": "2024-04-05T10:37:53.576241Z",
     "iopub.status.idle": "2024-04-05T10:37:53.583623Z",
     "shell.execute_reply": "2024-04-05T10:37:53.582537Z"
    },
    "papermill": {
     "duration": 0.023651,
     "end_time": "2024-04-05T10:37:53.585845",
     "exception": false,
     "start_time": "2024-04-05T10:37:53.562194",
     "status": "completed"
    },
    "tags": []
   },
   "outputs": [],
   "source": [
    "y_predict = lr.predict(x_test)"
   ]
  },
  {
   "cell_type": "code",
   "execution_count": 13,
   "id": "cb80257d",
   "metadata": {
    "execution": {
     "iopub.execute_input": "2024-04-05T10:37:53.612732Z",
     "iopub.status.busy": "2024-04-05T10:37:53.612358Z",
     "iopub.status.idle": "2024-04-05T10:37:53.620842Z",
     "shell.execute_reply": "2024-04-05T10:37:53.619906Z"
    },
    "papermill": {
     "duration": 0.024516,
     "end_time": "2024-04-05T10:37:53.622987",
     "exception": false,
     "start_time": "2024-04-05T10:37:53.598471",
     "status": "completed"
    },
    "tags": []
   },
   "outputs": [
    {
     "data": {
      "text/plain": [
       "array([31.40302131, 22.20306757, 21.14129681, 39.02572558, 19.94724785,\n",
       "       22.52706384, 18.38247303, 15.06724303, 22.23085598, 21.50511568,\n",
       "       18.63185223, 27.78256005, 29.55845678,  6.74561575, 10.96733427,\n",
       "       26.11838345, 21.76193498, 25.09461618,  4.12752192, 35.43847464,\n",
       "       24.26042681, 22.70045425, 14.54163914, 20.78847359, 24.36918454,\n",
       "       17.30350272, 19.28542938, 21.34193595, 28.47441715, 20.57479566,\n",
       "        8.99248642, 17.25832287, 22.2614938 , 21.93764391, 38.42965866,\n",
       "       25.85926261, 41.7078269 , 19.78972139, 33.52651144, 13.99129785,\n",
       "       14.0719068 , 22.70094941, 12.13026681,  8.79448627, 21.96110153,\n",
       "       24.64099694, 18.12113371, 16.79062927, 14.54524738, 15.52114801,\n",
       "       33.08125641, 32.94674536, 15.73994046, 23.89216744, 27.24147586,\n",
       "       19.35695509, 44.33688165, 20.86690196, 20.08716421, 27.68066845,\n",
       "       33.88475442, 13.03812091, 23.79341986, 31.50808784, 28.56817454,\n",
       "       32.07529249, 13.62020008, 35.00351931, 19.4318934 , 19.13384783,\n",
       "        2.16670888, 23.97309514, 33.39740082, 20.84948132, 26.76682156,\n",
       "       21.51408886, 31.49610683, 28.92680421, 13.8574073 , 13.64743591,\n",
       "       19.26854872, 21.64448506, 20.84228339, 23.24887527, 28.09207788,\n",
       "       23.12924311,  7.5330855 , 21.89239562, -5.72168012, 16.98280591,\n",
       "       16.6865113 , 25.34920598, 14.82535612,  4.41922806, 14.49366566,\n",
       "       16.5000393 , 21.76909042, 31.27607871, 30.56842644, 24.11645751,\n",
       "       22.49209113, 13.74337788])"
      ]
     },
     "execution_count": 13,
     "metadata": {},
     "output_type": "execute_result"
    }
   ],
   "source": [
    "y_predict"
   ]
  },
  {
   "cell_type": "code",
   "execution_count": 21,
   "id": "77069b53",
   "metadata": {},
   "outputs": [],
   "source": [
    "from sklearn.metrics import mean_absolute_percentage_error, r2_score, mean_squared_error, make_scorer\n",
    "\n"
   ]
  },
  {
   "cell_type": "code",
   "execution_count": 18,
   "id": "ae87bd7a",
   "metadata": {},
   "outputs": [
    {
     "name": "stdout",
     "output_type": "stream",
     "text": [
      "Mean Absolute Percentage Error: 16.41%\n",
      "R-squared: 0.7011659477170513\n",
      "Root Mean Squared Error: 4.746718340036024\n",
      "Accuracy of Linear Regression is: 83.59%\n"
     ]
    }
   ],
   "source": [
    "# Calculate Mean Absolute Percentage Error (MAPE)\n",
    "error = mean_absolute_percentage_error(y_test, y_predict)\n",
    "print(\"Mean Absolute Percentage Error: {:.2f}%\".format(error * 100))\n",
    "\n",
    "# Calculate R-squared and RMSE\n",
    "r_squared = r2_score(y_test, y_predict)\n",
    "rmse = np.sqrt(mean_squared_error(y_test, y_predict))\n",
    "\n",
    "# Print the results\n",
    "print(\"R-squared:\", r_squared)\n",
    "print(\"Root Mean Squared Error:\", rmse)\n",
    "print(\"Accuracy of Linear Regression is: {:.2f}%\".format((1 - error) * 100))"
   ]
  },
  {
   "cell_type": "code",
   "execution_count": 23,
   "id": "2f9b2028",
   "metadata": {},
   "outputs": [
    {
     "name": "stdout",
     "output_type": "stream",
     "text": [
      "R² scores from cross-validation: [0.70116595 0.64472045 0.78685282 0.71341419 0.71923545]\n",
      "Mean R² score: 0.7130777729142459\n",
      "RMSE scores from cross-validation: [4.74671834 5.38153256 4.64510618 5.02913461 4.53927075]\n",
      "Mean RMSE score: 4.86835248843852\n"
     ]
    }
   ],
   "source": [
    "# Define a K-Fold cross validator\n",
    "kf = KFold(n_splits=5, shuffle=True, random_state=2529)\n",
    "\n",
    "# Initialize the Linear Regression model\n",
    "model = LinearRegression()\n",
    "\n",
    "# Function to calculate RMSE\n",
    "def rmse(y_true, y_pred):\n",
    "    return np.sqrt(mean_squared_error(y_true, y_pred))\n",
    "\n",
    "# Create RMSE scorer\n",
    "rmse_scorer = make_scorer(rmse, greater_is_better=False)\n",
    "\n",
    "# Perform cross-validation for R²\n",
    "scores_r2 = cross_val_score(model, X, Y, cv=kf, scoring='r2')\n",
    "\n",
    "# Perform cross-validation for RMSE\n",
    "scores_rmse = cross_val_score(model, X, Y, cv=kf, scoring=rmse_scorer)\n",
    "\n",
    "# Output the results\n",
    "print(\"R² scores from cross-validation:\", scores_r2)\n",
    "print(\"Mean R² score:\", np.mean(scores_r2))\n",
    "print(\"RMSE scores from cross-validation:\", -scores_rmse)\n",
    "print(\"Mean RMSE score:\", -np.mean(scores_rmse))"
   ]
  }
 ],
 "metadata": {
  "kaggle": {
   "accelerator": "none",
   "dataSources": [
    {
     "datasetId": 4657107,
     "sourceId": 7929841,
     "sourceType": "datasetVersion"
    }
   ],
   "dockerImageVersionId": 30673,
   "isGpuEnabled": false,
   "isInternetEnabled": true,
   "language": "python",
   "sourceType": "notebook"
  },
  "kernelspec": {
   "display_name": "Python 3",
   "language": "python",
   "name": "python3"
  },
  "language_info": {
   "codemirror_mode": {
    "name": "ipython",
    "version": 3
   },
   "file_extension": ".py",
   "mimetype": "text/x-python",
   "name": "python",
   "nbconvert_exporter": "python",
   "pygments_lexer": "ipython3",
   "version": "3.11.5"
  },
  "papermill": {
   "default_parameters": {},
   "duration": 8.243305,
   "end_time": "2024-04-05T10:37:55.706876",
   "environment_variables": {},
   "exception": null,
   "input_path": "__notebook__.ipynb",
   "output_path": "__notebook__.ipynb",
   "parameters": {},
   "start_time": "2024-04-05T10:37:47.463571",
   "version": "2.5.0"
  }
 },
 "nbformat": 4,
 "nbformat_minor": 5
}
